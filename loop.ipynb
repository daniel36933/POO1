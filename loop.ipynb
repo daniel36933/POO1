{
 "metadata": {
  "language_info": {
   "codemirror_mode": {
    "name": "ipython",
    "version": 3
   },
   "file_extension": ".py",
   "mimetype": "text/x-python",
   "name": "python",
   "nbconvert_exporter": "python",
   "pygments_lexer": "ipython3",
   "version": "3.9.1"
  },
  "orig_nbformat": 2,
  "kernelspec": {
   "name": "python391jvsc74a57bd09518128f597d7b00dc14729602cfd87fb7b2cf75925976bcb0d0e328a830a12b",
   "display_name": "Python 3.9.1 64-bit"
  }
 },
 "nbformat": 4,
 "nbformat_minor": 2,
 "cells": [
  {
   "source": [
    "### Herencia"
   ],
   "cell_type": "markdown",
   "metadata": {}
  },
  {
   "cell_type": "code",
   "execution_count": 6,
   "metadata": {},
   "outputs": [
    {
     "output_type": "stream",
     "name": "stdout",
     "text": [
      "Yo hago un ruido\nEste es un banco de prueba\nEste es banco del pri xd\nMe llamo Carlos Eslin, y estoy afiliado a BBVA\nMe llamo Felipe Cálderon, y estoy afiliado a HSBC\n"
     ]
    }
   ],
   "source": [
    "class Banco: #Creación de una nueva clase para no repetir código Pet\n",
    "    def describe_me(self):\n",
    "        print(f\"Me llamo {self.name}, y estoy afiliado a {self.age}\")\n",
    "     \n",
    "    def speak(self):\n",
    "        print(\"Yo hago un ruido\")\n",
    "\n",
    "class Santander(Banco): #Fish\n",
    "    pass\n",
    "\n",
    "class BBVA(Banco): #Cat\n",
    "    def __init__(self, name, age):\n",
    "        self.name = name\n",
    "        self.age = age\n",
    "\n",
    "    def speak(self):\n",
    "        print(\"Este es un banco de prueba\")\n",
    "    \n",
    "\n",
    "class HSBC(Banco): #Dog\n",
    "    def __init__(self, name, age):\n",
    "        self.name = name\n",
    "        self.age = age\n",
    "\n",
    "    def speak(self):\n",
    "        print(\"Este es banco del pri xd\")\n",
    "\n",
    "#Polimorfismo\n",
    "bancos = [Santander(), BBVA(\"Rodolfo\", 12), HSBC(\"Benito\",3)]\n",
    "def all_loud(bancos):\n",
    "    for banco in bancos:\n",
    "        banco.speak()\n",
    "\n",
    "all_loud(bancos) #Manda a llamar a todos\n",
    "\n",
    "f1 = BBVA(\"Carlos Eslin\", \"BBVA\") #solo llama al perro\n",
    "f1.describe_me()\n",
    "\n",
    "f2 = HSBC(\"Felipe Cálderon\", \"HSBC\") #solo llama al gato\n",
    "f2.describe_me()\n"
   ]
  }
 ]
}