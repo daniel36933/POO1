{
 "metadata": {
  "language_info": {
   "codemirror_mode": {
    "name": "ipython",
    "version": 3
   },
   "file_extension": ".py",
   "mimetype": "text/x-python",
   "name": "python",
   "nbconvert_exporter": "python",
   "pygments_lexer": "ipython3",
   "version": "3.9.1"
  },
  "orig_nbformat": 2,
  "kernelspec": {
   "name": "python391jvsc74a57bd09518128f597d7b00dc14729602cfd87fb7b2cf75925976bcb0d0e328a830a12b",
   "display_name": "Python 3.9.1 64-bit"
  }
 },
 "nbformat": 4,
 "nbformat_minor": 2,
 "cells": [
  {
   "cell_type": "code",
   "execution_count": null,
   "metadata": {},
   "outputs": [],
   "source": [
    "class Pet: #Creación de una nueva clase para no repetir código\n",
    "    def describe_me(self):\n",
    "        print(f\"Me llamo {self.name}, y tengo {self.age} años\")\n",
    "\n",
    "class Cat(Pet):\n",
    "    def __init__(self, name, age):\n",
    "        self.name = name\n",
    "        self.age = age\n",
    "\n",
    "    \n",
    "\n",
    "class Dog(Pet):\n",
    "    def __init__(self, name, age):\n",
    "        self.name = name\n",
    "        self.age = age\n",
    "\n",
    "\n",
    "gato1 = Cat(\"Nestor\", 3)\n",
    "perro1 = Dog(\"Zolobino\", 5)\n",
    "\n",
    "gato1.describe_me()\n",
    "perro1.describe_me()"
   ]
  },
  {
   "source": [
    "### Herencia"
   ],
   "cell_type": "markdown",
   "metadata": {}
  },
  {
   "cell_type": "code",
   "execution_count": 2,
   "metadata": {},
   "outputs": [
    {
     "output_type": "stream",
     "name": "stdout",
     "text": [
      "Yo hago un ruido\nMiau\nLadra\n"
     ]
    }
   ],
   "source": [
    "class Pet: #Creación de una nueva clase para no repetir código\n",
    "    def describe_me(self):\n",
    "        print(f\"Me llamo {self.name}, y tengo {self.age} años\")\n",
    "     \n",
    "    def speak(self):\n",
    "        print(\"Yo hago un ruido\")\n",
    "\n",
    "class Fish(Pet):\n",
    "    pass\n",
    "\n",
    "class Cat(Pet):\n",
    "    def __init__(self, name, age):\n",
    "        self.name = name\n",
    "        self.age = age\n",
    "\n",
    "    def speak(self):\n",
    "        print(\"Miau\")\n",
    "    \n",
    "\n",
    "class Dog(Pet):\n",
    "    def __init__(self, name, age):\n",
    "        self.name = name\n",
    "        self.age = age\n",
    "\n",
    "    def speak(self):\n",
    "        print(\"Ladra\")\n",
    "\n",
    "#Polimorfismo\n",
    "pets = [Fish(), Cat(\"Rodolfo\", 12), Dog(\"Benito\",3)]\n",
    "def all_loud(pets):\n",
    "    for pet in pets:\n",
    "        pet.speak()\n",
    "        \n",
    "all_loud(pets)\n",
    "#f1 = Cat(\"Panchito\", 13)\n",
    "#f1.speak()"
   ]
  }
 ]
}