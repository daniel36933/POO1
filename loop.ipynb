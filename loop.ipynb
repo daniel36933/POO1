{
 "metadata": {
  "language_info": {
   "codemirror_mode": {
    "name": "ipython",
    "version": 3
   },
   "file_extension": ".py",
   "mimetype": "text/x-python",
   "name": "python",
   "nbconvert_exporter": "python",
   "pygments_lexer": "ipython3",
   "version": "3.9.1"
  },
  "orig_nbformat": 2,
  "kernelspec": {
   "name": "python391jvsc74a57bd09518128f597d7b00dc14729602cfd87fb7b2cf75925976bcb0d0e328a830a12b",
   "display_name": "Python 3.9.1 64-bit"
  }
 },
 "nbformat": 4,
 "nbformat_minor": 2,
 "cells": [
  {
   "cell_type": "code",
   "execution_count": 1,
   "metadata": {},
   "outputs": [
    {
     "output_type": "stream",
     "name": "stdout",
     "text": [
      "Me llamo Nestor, y tengo 3 años\nMe llamo Zolobino, y tengo 5 años\n"
     ]
    }
   ],
   "source": [
    "class Pet: #Creación de una nueva clase para no repetir código\n",
    "    def describe_me(self):\n",
    "        print(f\"Me llamo {self.name}, y tengo {self.age} años\")\n",
    "\n",
    "class Cat(Pet):\n",
    "    def __init__(self, name, age):\n",
    "        self.name = name\n",
    "        self.age = age\n",
    "\n",
    "    \n",
    "\n",
    "class Dog(Pet):\n",
    "    def __init__(self, name, age):\n",
    "        self.name = name\n",
    "        self.age = age\n",
    "\n",
    "\n",
    "gato1 = Cat(\"Nestor\", 3)\n",
    "perro1 = Dog(\"Zolobino\", 5)\n",
    "\n",
    "gato1.describe_me()\n",
    "perro1.describe_me()"
   ]
  },
  {
   "source": [
    "### Herencia"
   ],
   "cell_type": "markdown",
   "metadata": {}
  }
 ]
}