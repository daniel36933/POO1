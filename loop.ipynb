{
 "metadata": {
  "language_info": {
   "codemirror_mode": {
    "name": "ipython",
    "version": 3
   },
   "file_extension": ".py",
   "mimetype": "text/x-python",
   "name": "python",
   "nbconvert_exporter": "python",
   "pygments_lexer": "ipython3",
   "version": "3.9.1"
  },
  "orig_nbformat": 2,
  "kernelspec": {
   "name": "python391jvsc74a57bd09518128f597d7b00dc14729602cfd87fb7b2cf75925976bcb0d0e328a830a12b",
   "display_name": "Python 3.9.1 64-bit"
  }
 },
 "nbformat": 4,
 "nbformat_minor": 2,
 "cells": [
  {
   "cell_type": "code",
   "execution_count": 6,
   "metadata": {},
   "outputs": [
    {
     "output_type": "stream",
     "name": "stdout",
     "text": [
      "Susana, Gold\nDudmit, Silver\nVictor, Stone\nLeonardo, Fire\n"
     ]
    },
    {
     "output_type": "execute_result",
     "data": {
      "text/plain": [
       "False"
      ]
     },
     "metadata": {},
     "execution_count": 6
    }
   ],
   "source": [
    "class Customer:\n",
    "\n",
    "    def __init__(self, name, membership_type):\n",
    "        self.name = name\n",
    "        self.membership_type = membership_type\n",
    "\n",
    "    # Redefine el método de lectura de un objeto.\n",
    "    def __str__(self):\n",
    "        return f\"{self.name}, {self.membership_type}\"\n",
    "\n",
    "    def __eq__(self, other):\n",
    "        if self.name == other.name and self.membership_type == other.membership_type:\n",
    "            return True\n",
    "\n",
    "        return False\n",
    "\n",
    "\n",
    "    def print_customers(customers):\n",
    "        for customer in customers:\n",
    "            print(customer)\n",
    "\n",
    "c1 = Customer(\"Victor\", \"Stone\")\n",
    "c2 = Customer(\"Leonardo\", \"Fire\")\n",
    "customers = [Customer(\"Susana\", \"Gold\"), Customer(\"Dudmit\", \"Silver\"), c1, c2]\n",
    "\n",
    "Customer.print_customers(customers)\n",
    "c1 == c2\n",
    "    "
   ]
  },
  {
   "source": [
    "### Herencia"
   ],
   "cell_type": "markdown",
   "metadata": {}
  }
 ]
}