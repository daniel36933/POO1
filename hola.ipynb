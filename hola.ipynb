{
 "metadata": {
  "language_info": {
   "codemirror_mode": {
    "name": "ipython",
    "version": 3
   },
   "file_extension": ".py",
   "mimetype": "text/x-python",
   "name": "python",
   "nbconvert_exporter": "python",
   "pygments_lexer": "ipython3",
   "version": "3.9.1-final"
  },
  "orig_nbformat": 2,
  "kernelspec": {
   "name": "python391jvsc74a57bd09518128f597d7b00dc14729602cfd87fb7b2cf75925976bcb0d0e328a830a12b",
   "display_name": "Python 3.9.1 64-bit"
  }
 },
 "nbformat": 4,
 "nbformat_minor": 2,
 "cells": [
  {
   "source": [
    "### Object Oriented Programming in Python\n",
    "string = \"Hola mundo\"\n",
    "string.upper()\n",
    "type(string)"
   ],
   "cell_type": "code",
   "metadata": {},
   "execution_count": 3,
   "outputs": [
    {
     "output_type": "execute_result",
     "data": {
      "text/plain": [
       "str"
      ]
     },
     "metadata": {},
     "execution_count": 3
    }
   ]
  },
  {
   "cell_type": "code",
   "execution_count": 10,
   "metadata": {},
   "outputs": [
    {
     "output_type": "stream",
     "name": "stdout",
     "text": [
      "The new age of the dog is: 11\nMi perro se llama Peluchin\nMi perro se llama Firulais\n"
     ]
    }
   ],
   "source": [
    "class Dog:\n",
    "    def __init__(self, name, age):\n",
    "        self.name = name\n",
    "        self.age = int(age)\n",
    "        #print(\"Creaste un perro y se llama {self.name}\")\n",
    "    def print_name(self):\n",
    "        print(f\"Mi perro se llama {self.name}\")\n",
    "    \n",
    "    def add_years(self, years):\n",
    "        self.age += int(years)\n",
    "        print(f\"The new age of the dog is: {self.age}\")\n",
    "\n",
    "    def print_id(self):\n",
    "        return f\"Este es el id de memoria de tu perro: {id(self)}\\n\"\n",
    "\n",
    "\n",
    "chihuahua = Dog(\"Firulais\", 7)\n",
    "pug = Dog(\"Peluchin\", 6)\n",
    "pug.add_years(5)\n",
    "pug.print_id()\n",
    "\n",
    "pug.print_name()\n",
    "chihuahua.print_name()"
   ]
  },
  {
   "cell_type": "code",
   "execution_count": null,
   "metadata": {},
   "outputs": [],
   "source": [
    "# Class definition\n",
    "class Student:\n",
    "    def __init__(self, name, age, grade):\n",
    "        self.name = name\n",
    "        self.age = age\n",
    "        self.grade = grade\n",
    "\n",
    "    def get_grade(self):\n",
    "        return self.grade\n",
    "\n",
    "class Course:\n",
    "    def __init__(self, name, max_students):\n",
    "        self.name = name\n",
    "        self.max_students = max_students\n",
    "        self.student = []\n",
    "        self.is_active = false\n",
    "    def add_student(self, student):\n",
    "        if len(self.students < self.max_students:)\n",
    "            self.student.append(student)\n",
    "            return True\n",
    "        return f\"Ya complete el curso con la cantidad de alumnos\"\n",
    "\n",
    "# Start program here\n",
    "dudmit = Student(\"Dudmit\", 21, 10)\n",
    "susana = Student(\"Susana\", 16, 10)\n",
    "leonardo = Student(\"Leonardo\", 21, 8)\n",
    "\n",
    "c1 = Course(\"Python\", 2)\n",
    "print(c1.add_student(dudmit))\n",
    "print(c1.add_student(susana))\n",
    "print(c1.add_student(leonardo))"
   ]
  }
 ]
}